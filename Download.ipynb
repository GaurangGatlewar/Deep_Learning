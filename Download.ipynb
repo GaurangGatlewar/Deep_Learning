{
 "cells": [
  {
   "cell_type": "markdown",
   "metadata": {
    "collapsed": true
   },
   "source": [
    "# Import requirements"
   ]
  },
  {
   "cell_type": "code",
   "execution_count": null,
   "metadata": {},
   "outputs": [],
   "source": [
    "import pandas as pd\n",
    "import time\n",
    "import requests\n",
    "import urllib\n",
    "import os\n",
    "import time\n",
    "from PIL import Image"
   ]
  },
  {
   "cell_type": "markdown",
   "metadata": {},
   "source": [
    "# Train Data"
   ]
  },
  {
   "cell_type": "code",
   "execution_count": null,
   "metadata": {},
   "outputs": [],
   "source": [
    "df = pd.read_csv('train_with_20.csv')"
   ]
  },
  {
   "cell_type": "code",
   "execution_count": null,
   "metadata": {},
   "outputs": [],
   "source": [
    "df.shape"
   ]
  },
  {
   "cell_type": "code",
   "execution_count": null,
   "metadata": {},
   "outputs": [],
   "source": [
    "# Generate the train filenames list\n",
    "filenames = [\"train/\" + (str(i)+\"_\"+str(df['landmark_id'][i])+\".png\") for i in range(df.shape[0])]"
   ]
  },
  {
   "cell_type": "code",
   "execution_count": null,
   "metadata": {},
   "outputs": [],
   "source": [
    "# Download a single image\n",
    "def get_train_image(filename):\n",
    "    index = (filename.split('/')[1]).split('_')[0]\n",
    "    url = df['url'][index]\n",
    "    urllib.request.urlretrieve(url,filename)\n",
    "    return (filename)"
   ]
  },
  {
   "cell_type": "code",
   "execution_count": null,
   "metadata": {},
   "outputs": [],
   "source": [
    "# Download a batch of images between specified range\n",
    "def batch_download(start,end):\n",
    "    for i in range(start,end):\n",
    "        try:\n",
    "            urllib.request.urlretrieve(df['url'][i],filenames[i])\n",
    "            img = Image.open(filenames[i])\n",
    "            img.thumbnail((32,32), Image.ANTIALIAS)\n",
    "            img.save(filenames[i][:-3]+\"jpg\",optimize=True)\n",
    "            os.remove(filenames[i])\n",
    "        except:\n",
    "            print (\"The file %s could not be downloaded\"%(filenames[i]))\n",
    "    print (\"Batch Finished\")"
   ]
  },
  {
   "cell_type": "code",
   "execution_count": null,
   "metadata": {},
   "outputs": [],
   "source": [
    "# Automatically download all images batch-wise\n",
    "def download():\n",
    "    start = 0\n",
    "    final = df.shape[0]\n",
    "    steps = 10000\n",
    "    N = final//steps + 1\n",
    "    while(start<final):\n",
    "        print (\"Start = \" + str(start))\n",
    "        end = min(start+steps,final)\n",
    "        batch_download(start,end)\n",
    "        print (\"Finished \" + str(end))\n",
    "        start += steps\n",
    "        time.sleep(300)"
   ]
  },
  {
   "cell_type": "code",
   "execution_count": null,
   "metadata": {},
   "outputs": [],
   "source": [
    "#download()"
   ]
  },
  {
   "cell_type": "code",
   "execution_count": null,
   "metadata": {},
   "outputs": [],
   "source": [
    "batch_download(80000,100000)"
   ]
  },
  {
   "cell_type": "markdown",
   "metadata": {},
   "source": [
    "# Test Data"
   ]
  },
  {
   "cell_type": "code",
   "execution_count": null,
   "metadata": {},
   "outputs": [],
   "source": [
    "df1 = pd.read_csv('test.csv')"
   ]
  },
  {
   "cell_type": "code",
   "execution_count": null,
   "metadata": {},
   "outputs": [],
   "source": [
    "df1.shape"
   ]
  },
  {
   "cell_type": "code",
   "execution_count": null,
   "metadata": {},
   "outputs": [],
   "source": [
    "# Generate test filenames list\n",
    "test_filenames = [\"test/\" + (str(i)+\".png\") for i in range(df1.shape[0])]"
   ]
  },
  {
   "cell_type": "code",
   "execution_count": null,
   "metadata": {},
   "outputs": [],
   "source": [
    "# Download test images' batch\n",
    "def test_batch_download(start,end):\n",
    "    for i in range(start,end):\n",
    "        try:\n",
    "            urllib.request.urlretrieve(df1['url'][i],test_filenames[i])\n",
    "            img = Image.open(test_filenames[i])\n",
    "            img.thumbnail((32,32), Image.ANTIALIAS)\n",
    "            try:\n",
    "                img.save(test_filenames[i][:-3]+\"jpg\",optimize=True)\n",
    "                os.remove(test_filenames[i])\n",
    "            except:\n",
    "                img.save(test_filenames[i],optimize=True)\n",
    "                os.remove(test_filenames[i][:-3]+\"jpg\")\n",
    "        except:\n",
    "            print (\"The file %s could not be downloaded\"%(test_filenames[i]))\n",
    "    print (\"Batch Finished\")"
   ]
  },
  {
   "cell_type": "code",
   "execution_count": null,
   "metadata": {},
   "outputs": [],
   "source": [
    "test_batch_download(df1.shape[0])"
   ]
  },
  {
   "cell_type": "code",
   "execution_count": null,
   "metadata": {},
   "outputs": [],
   "source": []
  }
 ],
 "metadata": {
  "kernelspec": {
   "display_name": "Python 3",
   "language": "python",
   "name": "python3"
  },
  "language_info": {
   "codemirror_mode": {
    "name": "ipython",
    "version": 3
   },
   "file_extension": ".py",
   "mimetype": "text/x-python",
   "name": "python",
   "nbconvert_exporter": "python",
   "pygments_lexer": "ipython3",
   "version": "3.6.3"
  }
 },
 "nbformat": 4,
 "nbformat_minor": 2
}
