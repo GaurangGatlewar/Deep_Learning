{
 "cells": [
  {
   "cell_type": "markdown",
   "metadata": {},
   "source": [
    "# Import Requirements"
   ]
  },
  {
   "cell_type": "code",
   "execution_count": 1,
   "metadata": {},
   "outputs": [],
   "source": [
    "import os\n",
    "from PIL import Image\n",
    "import time"
   ]
  },
  {
   "cell_type": "markdown",
   "metadata": {},
   "source": [
    "# Resize Images"
   ]
  },
  {
   "cell_type": "code",
   "execution_count": 2,
   "metadata": {},
   "outputs": [],
   "source": [
    "target = \"train10/\"\n",
    "filenames = [target+file for file in os.listdir(target)]"
   ]
  },
  {
   "cell_type": "code",
   "execution_count": 3,
   "metadata": {},
   "outputs": [
    {
     "name": "stdout",
     "output_type": "stream",
     "text": [
      "613\n",
      "['train10/873628_3.png', 'train10/694606_5.png', 'train10/1052020_3.png', 'train10/1097433_5.png', 'train10/203678_5.png', 'train10/1174965_3.png', 'train10/1075994_8.png', 'train10/1198791_0.png', 'train10/133204_5.png', 'train10/875345_5.png']\n"
     ]
    }
   ],
   "source": [
    "print (len(filenames))\n",
    "print (filenames[:10])"
   ]
  },
  {
   "cell_type": "code",
   "execution_count": 4,
   "metadata": {},
   "outputs": [
    {
     "name": "stdout",
     "output_type": "stream",
     "text": [
      "0.00015878677368164062\n",
      "0 completed\n",
      "0\n"
     ]
    }
   ],
   "source": [
    "count = 0\n",
    "start = time.time()\n",
    "for i in range(len(filenames)):\n",
    "    if(i%1000 == 0):\n",
    "        print (time.time()-start)\n",
    "        print (str(i)+\" completed\")\n",
    "    try:\n",
    "        img = Image.open(filenames[i])\n",
    "        img = img.resize((32,32),Image.ANTIALIAS)\n",
    "        img.save(filenames[i])\n",
    "    except:\n",
    "        count += 1\n",
    "print (count)"
   ]
  },
  {
   "cell_type": "code",
   "execution_count": 5,
   "metadata": {},
   "outputs": [
    {
     "name": "stdout",
     "output_type": "stream",
     "text": [
      "0.0002384185791015625\n",
      "0 completed\n",
      "0\n"
     ]
    }
   ],
   "source": [
    "count = 0\n",
    "start = time.time()\n",
    "sz = (32,32)\n",
    "l = []\n",
    "for i in range(len(filenames)):\n",
    "    if(i%1000 == 0):\n",
    "        print (time.time()-start)\n",
    "        print (str(i)+\" completed\")\n",
    "    try:\n",
    "        img = Image.open(filenames[i])\n",
    "        if(img.size != sz):\n",
    "            l.append(filenames[i])\n",
    "            print (filenames[i])\n",
    "    except:\n",
    "        print (\"File could not be opened\")\n",
    "        count += 1\n",
    "print (count)"
   ]
  },
  {
   "cell_type": "markdown",
   "metadata": {},
   "source": [
    "# Removing empty files"
   ]
  },
  {
   "cell_type": "code",
   "execution_count": 6,
   "metadata": {},
   "outputs": [],
   "source": [
    "target = \"train10/\""
   ]
  },
  {
   "cell_type": "code",
   "execution_count": 7,
   "metadata": {},
   "outputs": [],
   "source": [
    "filenames = [target+file for file in os.listdir(target)]"
   ]
  },
  {
   "cell_type": "code",
   "execution_count": 8,
   "metadata": {},
   "outputs": [],
   "source": [
    "size = [os.stat(file).st_size for file in filenames]"
   ]
  },
  {
   "cell_type": "code",
   "execution_count": 9,
   "metadata": {},
   "outputs": [
    {
     "data": {
      "text/plain": [
       "[2663, 2291, 2730, 2172, 1868, 2400, 2615, 2512, 2266, 2285]"
      ]
     },
     "execution_count": 9,
     "metadata": {},
     "output_type": "execute_result"
    }
   ],
   "source": [
    "size[:10]"
   ]
  },
  {
   "cell_type": "code",
   "execution_count": 10,
   "metadata": {},
   "outputs": [
    {
     "data": {
      "text/plain": [
       "0"
      ]
     },
     "execution_count": 10,
     "metadata": {},
     "output_type": "execute_result"
    }
   ],
   "source": [
    "count = sum([int(os.stat(file).st_size==0) for file in filenames])\n",
    "count"
   ]
  },
  {
   "cell_type": "code",
   "execution_count": 11,
   "metadata": {},
   "outputs": [],
   "source": [
    "for file in filenames:\n",
    "    if(os.stat(file).st_size==0):\n",
    "        os.remove(file)"
   ]
  },
  {
   "cell_type": "code",
   "execution_count": null,
   "metadata": {},
   "outputs": [],
   "source": []
  }
 ],
 "metadata": {
  "kernelspec": {
   "display_name": "Python 3",
   "language": "python",
   "name": "python3"
  },
  "language_info": {
   "codemirror_mode": {
    "name": "ipython",
    "version": 3
   },
   "file_extension": ".py",
   "mimetype": "text/x-python",
   "name": "python",
   "nbconvert_exporter": "python",
   "pygments_lexer": "ipython3",
   "version": "3.6.3"
  }
 },
 "nbformat": 4,
 "nbformat_minor": 2
}
